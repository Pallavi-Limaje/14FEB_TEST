{
 "cells": [
  {
   "cell_type": "code",
   "execution_count": 17,
   "id": "19b0a3f1",
   "metadata": {},
   "outputs": [
    {
     "name": "stdout",
     "output_type": "stream",
     "text": [
      "How many terms? 5\n",
      "Fibonacci sequence:\n",
      "0\n",
      "1\n",
      "1\n",
      "2\n",
      "3\n"
     ]
    }
   ],
   "source": [
    "nterms = int(input(\"How many terms? \"))\n",
    "n1, n2 = 0, 1\n",
    "count = 0\n",
    "\n",
    "if nterms <= 0:\n",
    "   print(\"Please enter a positive integer\")\n",
    "elif nterms == 1:\n",
    "   print(\"Fibonacci sequence upto\",nterms,\":\")\n",
    "   print(n1)\n",
    "else:\n",
    "   print(\"Fibonacci sequence:\")\n",
    "   while count < nterms:\n",
    "       print(n1)\n",
    "       nth = n1 + n2\n",
    "       \n",
    "       n1 = n2\n",
    "       n2 = nth\n",
    "       count += 1"
   ]
  },
  {
   "cell_type": "code",
   "execution_count": 18,
   "id": "21f7d249",
   "metadata": {},
   "outputs": [
    {
     "name": "stdout",
     "output_type": "stream",
     "text": [
      "Enter a number: 56\n",
      "56 is not an Armstrong number\n"
     ]
    }
   ],
   "source": [
    "# Armstrong Numbers can be defined as the number that are equivalent to the cubes of their every digit\n",
    "# for eg. 153 = (1**3) + (5**3) + (3**3)\n",
    "num = int(input(\"Enter a number: \"))\n",
    "sum = 0\n",
    "\n",
    "temp = num\n",
    "while temp > 0:\n",
    "   digit = temp % 10\n",
    "   sum += digit ** 3\n",
    "   temp //= 10\n",
    "\n",
    "# display the result\n",
    "if num == sum:\n",
    "   print(num,\"is an Armstrong number\")\n",
    "else:\n",
    "   print(num,\"is not an Armstrong number\")"
   ]
  },
  {
   "cell_type": "code",
   "execution_count": 23,
   "id": "c1911d60",
   "metadata": {},
   "outputs": [
    {
     "name": "stdout",
     "output_type": "stream",
     "text": [
      "[1, 2, 3, 4, 1]\n",
      "(1, 2, 3, 4, 1)\n",
      "[1, 2, 3, 4, 1, 4]\n"
     ]
    }
   ],
   "source": [
    "# List and tupples store data of every type. both are iterables.\n",
    "# list data is surronded by [] whereas tuples are surrounded by ()\n",
    "# \n",
    "list_A = [1,2,3,4]\n",
    "tup_A = (1,2,3,4)\n",
    "\n",
    "# First difference\n",
    "print(list_A)\n",
    "print(tup_A)\n",
    "\n",
    "#second difference \n",
    "\n",
    "# list_A[2] = 10\n",
    "# print(list_A)\n",
    "\n",
    "# tup_A[2] = 5\n",
    "\n"
   ]
  },
  {
   "cell_type": "code",
   "execution_count": 31,
   "id": "10445d78",
   "metadata": {},
   "outputs": [
    {
     "data": {
      "text/plain": [
       "[32.0, 94.1, 168.8]"
      ]
     },
     "execution_count": 31,
     "metadata": {},
     "output_type": "execute_result"
    }
   ],
   "source": [
    "# Python Docsring is the informaiton of the function\n",
    "# funciton creator gives the details regarding the number of parameters, their type, and return values."
   ]
  },
  {
   "cell_type": "code",
   "execution_count": 37,
   "id": "dfb80f78",
   "metadata": {},
   "outputs": [
    {
     "name": "stdout",
     "output_type": "stream",
     "text": [
      "YES\n"
     ]
    }
   ],
   "source": [
    "# RESEARCH TEST\n",
    "# 1. PEP8 is a document that provides guidelines and best practices on how to write Python code\n",
    "# 2. range returns the object created like list that is the range object whereas xange returns the xrange object. \n",
    "# memory required for the return types created by range is more than that required by xrange variables.\n",
    "# xrange is faster than range\n",
    "# 3. gloabl varibales are those that can be used anywhere in the file and has no limit for usage. \n",
    "# local varbales can be used only within their scope such as between the funciton scope. \n",
    "a=10\n",
    "b=20\n",
    "def addition(n1,n2):\n",
    "    c = n1+n2\n",
    "    return c\n",
    "addition(a,b)\n",
    "print(a)\n",
    "print(b)\n",
    "print(c)\n",
    "# 4.python2 considers print as statement whereas in python3 it is considred as a funciton\n",
    "# pthon2 stores strings by ASCII values whereas python3 stores them as UNICODE values\n",
    "# python2 returns an integer on dividing two integer whereas python3 returns float value\n",
    "\n",
    "# 5. mirrored palindrmes consists of the letters that are graphically symetrical on a vertical axis(A, X,Y,H,I,M,W,T)\n",
    "def isReflectionEqual(s):\n",
    " \n",
    "    symmetric = dict()\n",
    " \n",
    "    str1 = \"AHIMOTUVWXY\"\n",
    " \n",
    "    for i in str1:\n",
    "        symmetric[i] = 1\n",
    " \n",
    "    n = len(s)\n",
    " \n",
    "    for i in range(n):\n",
    "        if (symmetric[s[i]] == 0):\n",
    "            return False\n",
    " \n",
    "    rev = s[::-1]\n",
    "    if (rev == s):\n",
    "        return True\n",
    "    else:\n",
    "        return False\n",
    " \n",
    "s = \"MYTYM\"\n",
    "if (isReflectionEqual(s)):\n",
    "    print(\"YES\")\n",
    "else:\n",
    "    print(\"NO\")"
   ]
  },
  {
   "cell_type": "code",
   "execution_count": null,
   "id": "55a04e11",
   "metadata": {},
   "outputs": [],
   "source": []
  }
 ],
 "metadata": {
  "kernelspec": {
   "display_name": "Python 3 (ipykernel)",
   "language": "python",
   "name": "python3"
  },
  "language_info": {
   "codemirror_mode": {
    "name": "ipython",
    "version": 3
   },
   "file_extension": ".py",
   "mimetype": "text/x-python",
   "name": "python",
   "nbconvert_exporter": "python",
   "pygments_lexer": "ipython3",
   "version": "3.9.7"
  }
 },
 "nbformat": 4,
 "nbformat_minor": 5
}
